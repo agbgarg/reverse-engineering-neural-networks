{
 "cells": [
  {
   "cell_type": "markdown",
   "metadata": {},
   "source": [
    "# Reverse engineering learned optimizers\n",
    "\n",
    "**Nov 4 2020**\n",
    "\n",
    "Contact: Niru Maheswaranathan ([@niru_m](https://twitter.com/niru_m))\n",
    "\n",
    "In this notebook, we will walk through the analysis in the following paper: [Reverse engineering learned optimizers reveals known and novel dynamics](https://arxiv.org/abs/2011.02159).\n",
    "\n",
    "This paper studies the mechanisms and behaviors in _learned_ optimization algorithms. These are algorithms (in contrast to hand designed algorithms such as gradient descent or momentum) that are trained to do optimization. For details about how these work, and what we found by studying them, check out the paper.\n",
    "\n",
    "In this notebook, we will walk through how to run these optimizers, using pre-trained weights that you can download."
   ]
  },
  {
   "cell_type": "markdown",
   "metadata": {},
   "source": [
    "## Imports\n",
    "\n",
    "First, we import the packages we will need. Most of these are standard in the scientific python community (NumPy, SciPy, Matplotlib). [JAX](https://jax.readthedocs.io/) is a machine learning library we use for building models with autodifferentiation support. The [ml_collections](https://github.com/google/ml_collections) package is a small library of collections designed for machine learning use cases, we use the `ConfigDict` object in that package to store configuration details about a given model.\n",
    "\n",
    "Finally, the [renn](https://github.com/google-research/reverse-engineering-neural-networks) package contains utilities for training and analyzing recurrent neural networks (RNNs).\n",
    "\n",
    "All of these packages can be installed via [pip](https://pip.pypa.io/en/stable/) (e.g. run `pip install renn` to install the renn package)."
   ]
  },
  {
   "cell_type": "code",
   "execution_count": 1,
   "metadata": {},
   "outputs": [
    {
     "name": "stdout",
     "output_type": "stream",
     "text": [
      "Using renn v0.0.13\n"
     ]
    }
   ],
   "source": [
    "import os\n",
    "import pathlib\n",
    "import yaml\n",
    "\n",
    "import jax\n",
    "import jax.numpy as jnp\n",
    "\n",
    "from jax.experimental import optimizers\n",
    "from jax.experimental import stax\n",
    "\n",
    "import numpy as np\n",
    "import matplotlib.pyplot as plt\n",
    "from scipy.stats import sem\n",
    "\n",
    "from ml_collections import ConfigDict\n",
    "\n",
    "import renn\n",
    "from renn import metaopt\n",
    "print(f'Using renn v{renn.__version__}')"
   ]
  },
  {
   "cell_type": "markdown",
   "metadata": {},
   "source": [
    "## Setup\n",
    "\n",
    "We provide trained weights for the optimizers analyzed in the paper at this [Google Drive link](https://drive.google.com/drive/folders/1OqwqBVIqA_U9t-SztPwzoW58B3qDxFwN?usp=sharing). **You will need to download these files to your machine in order to run this notebook.** Each folder contains a different model, corresponding to the different tasks (optimization problems) that they were trained on.\n",
    "\n",
    "The `config.yml` file is a yaml file containing information about the model, and the `theta.bin` file is a serialized file containing NumPy arrays that store the trained weights for the model.\n",
    "\n",
    "You can load these files using the following helper function:"
   ]
  },
  {
   "cell_type": "code",
   "execution_count": 2,
   "metadata": {},
   "outputs": [],
   "source": [
    "def load_model(basedir):\n",
    "    \"\"\"Loads trained weights and configuration file from a given directory.\n",
    "    \n",
    "    Args:\n",
    "        basedir: str, Specifies the directory where the config.yml and theta.bin files are saved.\n",
    "    \n",
    "    Returns;\n",
    "        cfg: An ml_collections ConfigDict object containing the configuration parameters for this model.\n",
    "        theta: A JAX pytree containing the trained weights for the model.\n",
    "    \"\"\"\n",
    "    with open(pathlib.Path(basedir) / 'config.yml', 'r') as f:\n",
    "        cfg = yaml.load(f)\n",
    "        \n",
    "    with open(pathlib.Path(basedir) / 'theta.bin', 'rb') as f:\n",
    "        theta = renn.load(f)\n",
    "    \n",
    "    return cfg, theta"
   ]
  },
  {
   "cell_type": "markdown",
   "metadata": {},
   "source": [
    "In this notebook, we will analyze the learned optimizer trained on the Quadratic task. Assuming you have downloaded those files to the `~/Downloads` folder (you may need to change the base directory depending on where you saved your files), let's load the model:"
   ]
  },
  {
   "cell_type": "code",
   "execution_count": 3,
   "metadata": {},
   "outputs": [
    {
     "name": "stdout",
     "output_type": "stream",
     "text": [
      "adam:\n",
      "  eps: 4.529839901619837e-06\n",
      "  omb1: 0.19360588076250435\n",
      "  omb2: 0.4064297061076916\n",
      "batch_size: 64\n",
      "clip_value: 0.047261480715151634\n",
      "input_scale: 1.0\n",
      "l2_pen: 1.0e-06\n",
      "lr:\n",
      "  decay_rate: 0.5546520268275907\n",
      "  decay_steps: 1000\n",
      "  step_size: 0.0007836616188084271\n",
      "num_inner_steps: 201\n",
      "num_layers: 1\n",
      "num_outer_steps: 5000\n",
      "num_units: 256\n",
      "output_scale: 1.0\n",
      "save_bin: false\n",
      "save_every: 100\n",
      "seed: 675\n",
      "task: quadratic\n",
      "\n"
     ]
    },
    {
     "name": "stderr",
     "output_type": "stream",
     "text": [
      "<ipython-input-2-91aa130a5429>:12: YAMLLoadWarning: calling yaml.load() without Loader=... is deprecated, as the default Loader is unsafe. Please read https://msg.pyyaml.org/load for full details.\n",
      "  cfg = yaml.load(f)\n"
     ]
    }
   ],
   "source": [
    "# You may need to change this depending on where you saved your files.\n",
    "basedir = os.path.expanduser('~/Downloads/Quadratic')\n",
    "\n",
    "# This notebook analyzes a learned optimizer trained on the Quadratic task.\n",
    "cfg, theta = load_model(basedir)\n",
    "\n",
    "# This will print out some configuration information about the experiment.\n",
    "print(cfg)"
   ]
  },
  {
   "cell_type": "markdown",
   "metadata": {},
   "source": [
    "## Building learned optimizers\n",
    "\n",
    "In this paper, we parameterize optimization algorithms using recurrent neural networks (RNNs). First, let's rebuild the RNN model. We used single layer gated recurrent units (GRUs):"
   ]
  },
  {
   "cell_type": "code",
   "execution_count": 4,
   "metadata": {
    "colab": {
     "base_uri": "https://localhost:8080/",
     "height": 198
    },
    "id": "ye2UOng2kDS1",
    "outputId": "2d1ae8a1-2fa9-4da8-9627-db1ed194f6c7"
   },
   "outputs": [
    {
     "name": "stdout",
     "output_type": "stream",
     "text": [
      "<class 'renn.rnn.cells.StackedCell'>\n"
     ]
    }
   ],
   "source": [
    "# Build optimizer RNN\n",
    "layers = [(renn.GRU(cfg.num_units), stax.Identity)]\n",
    "cell = renn.StackedCell(layers)\n",
    "\n",
    "print(type(cell))"
   ]
  },
  {
   "cell_type": "markdown",
   "metadata": {},
   "source": [
    "The `cell` is an StackedCell object from the `renn` package that makes it easy to analyze the RNN. It's similar to RNN cells implemented in other popular machine learning libraries.\n",
    "\n",
    "The learned optimizer we have trained in the paper is what we call a \"component-wise\" RNN optimizer. This just means that the optimizer gets applied to each parameter in the target problem independently (this is how most first-order optimization algorithms work). We build our component-wise RNN (cwrnn) optimizer using the following helper function:"
   ]
  },
  {
   "cell_type": "code",
   "execution_count": 5,
   "metadata": {},
   "outputs": [
    {
     "name": "stderr",
     "output_type": "stream",
     "text": [
      "/Users/nirum/anaconda3/lib/python3.8/site-packages/jax/lib/xla_bridge.py:130: UserWarning: No GPU/TPU found, falling back to CPU.\n",
      "  warnings.warn('No GPU/TPU found, falling back to CPU.')\n"
     ]
    }
   ],
   "source": [
    "model_key = jax.random.PRNGKey(0)\n",
    "theta_init, optimizer_fun = metaopt.models.cwrnn(model_key, cell, input_scale=cfg.input_scale, output_scale=cfg.output_scale)"
   ]
  },
  {
   "cell_type": "markdown",
   "metadata": {},
   "source": [
    "Here, `input_scale` and `output_scale` are problem specific scalars that were separately tuned for each task. For the Quadratic task, they are both set to one. `theta_init` is a JAX pytree containing initial weights for the learned optimizer. It has the same structure as the final weights (`theta`) that we loaded above.\n",
    "\n",
    "Finally, the `optimizer_fun` is a function that takes in optimizer parameters (e.g. `theta`) and returns a [JAX optimizer](https://jax.readthedocs.io/en/latest/jax.experimental.optimizers.html) triple of functions that we can use to solve optimization problems:"
   ]
  },
  {
   "cell_type": "code",
   "execution_count": 6,
   "metadata": {},
   "outputs": [
    {
     "name": "stdout",
     "output_type": "stream",
     "text": [
      "We have 3 functions that form an optimizer tuple:\n",
      "init_state\n",
      "update_opt\n",
      "get_params\n"
     ]
    }
   ],
   "source": [
    "cwrnn = optimizer_fun(theta)\n",
    "\n",
    "print(f'We have {len(cwrnn)} functions that form an optimizer tuple:')\n",
    "for func in cwrnn:\n",
    "    print(func.__name__)"
   ]
  },
  {
   "cell_type": "markdown",
   "metadata": {},
   "source": [
    "## Loading a task (optimization problem) to run the optimizer on\n",
    "\n",
    "Let's run this optimizer on the task that it was trained on, the Quadratic task:"
   ]
  },
  {
   "cell_type": "code",
   "execution_count": 7,
   "metadata": {},
   "outputs": [],
   "source": [
    "# For this task, these hyperparameters specify the number of problem parameters (5),\n",
    "# and the min and max eigenvalues that control the condition number of the problem,\n",
    "# specified as log10 of the eigenvalue. So here, the min and max eigenvalue range is (10^-3, 10^0).\n",
    "task = metaopt.tasks.quad(5, -3, 0)"
   ]
  },
  {
   "cell_type": "markdown",
   "metadata": {},
   "source": [
    "A task is a function that takes a JAX random key, and returns two things: (1) intial parameters for the optimization problem, and (2) a loss function:"
   ]
  },
  {
   "cell_type": "code",
   "execution_count": 8,
   "metadata": {},
   "outputs": [
    {
     "name": "stdout",
     "output_type": "stream",
     "text": [
      "Initial loss: 251.5458221435547\n"
     ]
    }
   ],
   "source": [
    "test_key = jax.random.PRNGKey(seed=1234)  # Changing this seed will sample a new test problem.\n",
    "\n",
    "x0, loss_fun = task(test_key)\n",
    "\n",
    "print(f'Initial loss: {loss_fun(x0, _)}')"
   ]
  },
  {
   "cell_type": "markdown",
   "metadata": {},
   "source": [
    "## Run the learned optimizer\n",
    "\n",
    "To run an optimizer, we will use the following helper function, which takes a test key and an optimizer and runs it on our task for 100 iterations:"
   ]
  },
  {
   "cell_type": "code",
   "execution_count": 9,
   "metadata": {},
   "outputs": [],
   "source": [
    "def run_optimizer(optimizer_tuple, test_key):\n",
    "    num_iterations = 101\n",
    "    return metaopt.unroll_scan(*task(test_key), optimizer_tuple, num_iterations, renn.identity)[1]"
   ]
  },
  {
   "cell_type": "code",
   "execution_count": 10,
   "metadata": {},
   "outputs": [],
   "source": [
    "# This function returns an array containing the loss at each iteration\n",
    "losses_after_training = run_optimizer(optimizer_fun(theta), test_key)\n",
    "\n",
    "# For comparison, we'll also run the optimizer using the _initial_ optimizer weights (before meta-training)\n",
    "losses_before_training = run_optimizer(optimizer_fun(theta_init), test_key)"
   ]
  },
  {
   "cell_type": "code",
   "execution_count": 11,
   "metadata": {},
   "outputs": [
    {
     "data": {
      "text/plain": [
       "<matplotlib.legend.Legend at 0x7f87be40bdc0>"
      ]
     },
     "execution_count": 11,
     "metadata": {},
     "output_type": "execute_result"
    },
    {
     "data": {
      "image/png": "[encoded data removed]",
      "text/plain": [
       "<Figure size 432x288 with 1 Axes>"
      ]
     },
     "metadata": {
      "needs_background": "light"
     },
     "output_type": "display_data"
    }
   ],
   "source": [
    "plt.plot(losses_before_training, 'k--', label='Before meta-training')\n",
    "plt.plot(losses_after_training, 'k-', label='After meta-training')\n",
    "plt.xlabel('Iteration')\n",
    "plt.ylabel('Loss')\n",
    "plt.legend()"
   ]
  }
 ],
 "metadata": {
  "colab": {
   "name": "Learned optimizer evaluation.ipynb",
   "provenance": []
  },
  "kernelspec": {
   "display_name": "Python 3",
   "language": "python",
   "name": "python3"
  },
  "language_info": {
   "codemirror_mode": {
    "name": "ipython",
    "version": 3
   },
   "file_extension": ".py",
   "mimetype": "text/x-python",
   "name": "python",
   "nbconvert_exporter": "python",
   "pygments_lexer": "ipython3",
   "version": "3.8.5"
  }
 },
 "nbformat": 4,
 "nbformat_minor": 1
}
